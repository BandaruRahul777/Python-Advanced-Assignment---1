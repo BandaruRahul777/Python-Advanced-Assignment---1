{
 "cells": [
  {
   "cell_type": "code",
   "execution_count": null,
   "id": "d623252d",
   "metadata": {},
   "outputs": [],
   "source": [
    "Question 1"
   ]
  },
  {
   "cell_type": "code",
   "execution_count": null,
   "id": "e1450fbe",
   "metadata": {},
   "outputs": [],
   "source": [
    "Object-oriented programming is a programming paradigm that provides a means of structuring programs so that properties and\n",
    "behaviors are bundled into individual objects\n",
    "\n",
    "In Python, object-oriented Programming (OOPs) uses objects and classes in programming.\n",
    "It aims to implement real-world entities like inheritance, polymorphisms, encapsulation, etc. in the programming.\n",
    "The main concept of OOPs is to bind the data and the functions that work on that together as a single unit so that no other part\n",
    "of the code can access this data.\n",
    "\n",
    "It comes up with the following advantages:\n",
    "It helps to divide our over all program into different small segments and thus making it solving easy with the use of objects\n",
    "Helps in easy maintenance and modification of existing program\n",
    "Multiple instances of an object can be made."
   ]
  },
  {
   "cell_type": "code",
   "execution_count": null,
   "id": "a0d6dedc",
   "metadata": {},
   "outputs": [],
   "source": [
    "Question 2"
   ]
  },
  {
   "cell_type": "code",
   "execution_count": null,
   "id": "1c243e23",
   "metadata": {},
   "outputs": [],
   "source": [
    "Python searches for an attribute in an upward tree of attributes. it first searches for the attribute in its instance and then\n",
    "looks in the class it is generated from, to all super classes listed in its class header."
   ]
  },
  {
   "cell_type": "code",
   "execution_count": null,
   "id": "1cb08ad1",
   "metadata": {},
   "outputs": [],
   "source": [
    "Question 3"
   ]
  },
  {
   "cell_type": "code",
   "execution_count": null,
   "id": "34a5b6e4",
   "metadata": {},
   "outputs": [],
   "source": [
    "The differences between a class object and an instance object are:\n",
    "\n",
    "Class is a template for creating objects whereas object is an instance of class\n",
    "Seperate memory is allocated for each object whenever an object is created. but for a class this doesnot happens.\n",
    "A Class is created once. Many objects are created using a class.\n",
    "As Classes have no allocated memory. they can't be manipulated. but objects can be manipulated."
   ]
  },
  {
   "cell_type": "code",
   "execution_count": null,
   "id": "c1b3d18e",
   "metadata": {},
   "outputs": [],
   "source": [
    "Question 4"
   ]
  },
  {
   "cell_type": "code",
   "execution_count": null,
   "id": "bb817bf1",
   "metadata": {},
   "outputs": [],
   "source": [
    "Python Classes usually have three types of methods which are:\n",
    "\n",
    "Instance Methods (object level methods).\n",
    "Class Methods (class level methods).\n",
    "Static Methods (general utility methods).\n",
    "self is the first argument for instance methods. which refers to the object itself.\n",
    "cls is the first argument for class methods which refers to the class itself."
   ]
  },
  {
   "cell_type": "code",
   "execution_count": null,
   "id": "620e7cda",
   "metadata": {},
   "outputs": [],
   "source": [
    "Question 5"
   ]
  },
  {
   "cell_type": "code",
   "execution_count": null,
   "id": "7ec8fc12",
   "metadata": {},
   "outputs": [],
   "source": [
    " __init__ is a reseved method in python classes. It serves the role of a constructor in object oriented terminology.\n",
    "This method is called when an object is created from a class and it allows the class to initialize the attributes of the class."
   ]
  },
  {
   "cell_type": "code",
   "execution_count": null,
   "id": "da5b6bfa",
   "metadata": {},
   "outputs": [],
   "source": [
    "Question 6"
   ]
  },
  {
   "cell_type": "code",
   "execution_count": null,
   "id": "78f1f004",
   "metadata": {},
   "outputs": [],
   "source": [
    "To create a class instance, we need to call the class by its name and pass the arguments to the class, which its init method\n",
    "accepts."
   ]
  },
  {
   "cell_type": "code",
   "execution_count": null,
   "id": "d88163f1",
   "metadata": {},
   "outputs": [],
   "source": [
    "Question 7"
   ]
  },
  {
   "cell_type": "code",
   "execution_count": null,
   "id": "6e260966",
   "metadata": {},
   "outputs": [],
   "source": [
    "class keyword is used to created a class in python. The syntax to create a class in python is class <classname>:"
   ]
  },
  {
   "cell_type": "code",
   "execution_count": null,
   "id": "0ab723a0",
   "metadata": {},
   "outputs": [],
   "source": [
    "Question 8"
   ]
  },
  {
   "cell_type": "code",
   "execution_count": null,
   "id": "ed7f0de6",
   "metadata": {},
   "outputs": [],
   "source": [
    "class Employee(Person): Here child class Employee inherits attributes and methofs from Superclass/Parent Person."
   ]
  }
 ],
 "metadata": {
  "kernelspec": {
   "display_name": "Python 3 (ipykernel)",
   "language": "python",
   "name": "python3"
  },
  "language_info": {
   "codemirror_mode": {
    "name": "ipython",
    "version": 3
   },
   "file_extension": ".py",
   "mimetype": "text/x-python",
   "name": "python",
   "nbconvert_exporter": "python",
   "pygments_lexer": "ipython3",
   "version": "3.9.7"
  }
 },
 "nbformat": 4,
 "nbformat_minor": 5
}
